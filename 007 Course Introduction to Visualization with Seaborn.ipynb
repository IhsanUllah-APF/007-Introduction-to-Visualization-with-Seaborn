{
 "cells": [
  {
   "cell_type": "markdown",
   "id": "c418025a-463d-4e47-b014-0b8c9b040dfc",
   "metadata": {},
   "source": [
    "# Chapter 1"
   ]
  },
  {
   "cell_type": "markdown",
   "id": "2e964d86-ac72-4e55-b71a-630e45e674b4",
   "metadata": {},
   "source": [
    "## Introduction"
   ]
  },
  {
   "cell_type": "code",
   "execution_count": null,
   "id": "6ee81c3c-23e0-49d2-acf6-b25f195853c3",
   "metadata": {},
   "outputs": [],
   "source": [
    "import pandas as pd\n",
    "import matplotlib.pyplot as plt\n",
    "import seaborn as sns"
   ]
  },
  {
   "cell_type": "code",
   "execution_count": null,
   "id": "57123516-88ca-45c4-84bb-40a9b3d1ad2e",
   "metadata": {},
   "outputs": [],
   "source": [
    "df = pd.read_csv('countries-of-the-world.csv')\n",
    "df.head()"
   ]
  },
  {
   "cell_type": "markdown",
   "id": "fd309774-2541-4098-a2f1-ef7ed08507df",
   "metadata": {},
   "source": [
    "### Scatterplot"
   ]
  },
  {
   "cell_type": "code",
   "execution_count": null,
   "id": "858f8080-b5ed-47d8-a4ee-a2f5b3069387",
   "metadata": {},
   "outputs": [],
   "source": [
    "# grab the columns\n",
    "df.columns                                                                 "
   ]
  },
  {
   "cell_type": "code",
   "execution_count": null,
   "id": "265b0b47-d5cd-4460-af97-0fcf218067ac",
   "metadata": {},
   "outputs": [],
   "source": [
    "# replace comma by dot in df column.\n",
    "phones = list(df['Phones (per 1000)'].str.replace(',','.'))      \n",
    "\n",
    "# create an empty list and convert strings into floats and append to the list\n",
    "phones_list = []                                                 \n",
    "for p in phones:                                                 \n",
    "    p = float(p)\n",
    "    phones_list.append(p)                                       "
   ]
  },
  {
   "cell_type": "code",
   "execution_count": null,
   "id": "24361a90-aed1-4a1c-b7bb-df42383a47a7",
   "metadata": {},
   "outputs": [],
   "source": [
    "# same as above\n",
    "percent_literate = list(df['Literacy (%)'].str.replace(',','.')) \n",
    "percent_literate_list = []\n",
    "for p in percent_literate:\n",
    "    p = float(p)\n",
    "    percent_literate_list.append(p)"
   ]
  },
  {
   "cell_type": "code",
   "execution_count": null,
   "id": "258fda0a-bc4d-475d-ab95-99f2895006c6",
   "metadata": {},
   "outputs": [],
   "source": [
    "# GDP is already OK\n",
    "gdp = list(df['GDP ($ per capita)'])                             "
   ]
  },
  {
   "cell_type": "code",
   "execution_count": null,
   "id": "0dc6b047-67bb-4853-b5bd-8084c44968a2",
   "metadata": {},
   "outputs": [],
   "source": [
    "# create scatter plot with lists. These are lists, so we don't have to mention the dataframe or series name.\n",
    "sns.scatterplot(x=gdp, y=phones_list)                           "
   ]
  },
  {
   "cell_type": "code",
   "execution_count": null,
   "id": "68dc9f93-8ee5-4599-876c-f7911f10e533",
   "metadata": {},
   "outputs": [],
   "source": [
    "sns.scatterplot(x=gdp, y=percent_literate_list)"
   ]
  },
  {
   "cell_type": "code",
   "execution_count": null,
   "id": "cdadced7-18f8-4165-807d-4401e9044f75",
   "metadata": {},
   "outputs": [],
   "source": [
    "# Keeping this just for memory.\n",
    "# df = df.dropna(how='any')  "
   ]
  },
  {
   "cell_type": "markdown",
   "id": "8f95eb40-f7a8-4dd4-a5d9-5ef0eeaa5dfa",
   "metadata": {},
   "source": [
    "### Count plot:"
   ]
  },
  {
   "cell_type": "code",
   "execution_count": null,
   "id": "f190192f-f0b7-462f-ba89-2ec9d0f237f8",
   "metadata": {},
   "outputs": [],
   "source": [
    "# In the last exercise, we explored a dataset that contains information about 227 countries. Let's do more exploration of this data - specifically,\n",
    "# how many countries are in each region of the world?\n",
    "# To do this, we'll need to use a count plot. Count plots take in a categorical list and return bars that represent the number of list entries per \n",
    "# category. You can create one here using a list of regions for each country, which is a variable named region\n",
    "\n",
    "# create a list from df column/series\n",
    "region = list(df['Region'])  \n",
    "region[0:5]                    # display the first 5 elements in the list"
   ]
  },
  {
   "cell_type": "code",
   "execution_count": null,
   "id": "eb7d2886-64f4-4ee3-a6d5-a31703ee9840",
   "metadata": {},
   "outputs": [],
   "source": [
    "# create a count plot with list (region) on y-axis. region is a categorical variable.\n",
    "sns.countplot(y=region)                                                               "
   ]
  },
  {
   "cell_type": "code",
   "execution_count": null,
   "id": "ed26d0fc-5791-4d8e-b180-0797f200f166",
   "metadata": {},
   "outputs": [],
   "source": [
    "# same above plot produced but list (region) on x-axis.\n",
    "sns.countplot(x=region)                                                     "
   ]
  },
  {
   "cell_type": "markdown",
   "id": "2ad80557-d947-4ad8-8fb7-2b79af841dec",
   "metadata": {},
   "source": [
    "## Using Pandas with Seaborn"
   ]
  },
  {
   "cell_type": "code",
   "execution_count": null,
   "id": "e11b9748-b588-4f16-9d35-09a0c4a4d3cd",
   "metadata": {},
   "outputs": [],
   "source": [
    "# read the csv file into dataframe\n",
    "df = pd.read_csv('young-people-survey-responses.csv')\n",
    "df.head()"
   ]
  },
  {
   "cell_type": "code",
   "execution_count": null,
   "id": "5a17c9e4-a078-49e3-b6a6-3fef9e93b347",
   "metadata": {},
   "outputs": [],
   "source": [
    "# use Pandas data structure (series/data frame) to create count plot. Spider is a categorical variable. It will count the number of ones, twos etc in column, Spiders\n",
    "sns.countplot(x= 'Spiders', data= df)"
   ]
  },
  {
   "cell_type": "code",
   "execution_count": null,
   "id": "1effa42a-6357-4c27-bca8-d290cda94d05",
   "metadata": {},
   "outputs": [],
   "source": [
    "# same as above but use df['column'] this time. With this there is no need for keyword argument, data.\n",
    "sns.countplot(x= df['Spiders'])"
   ]
  },
  {
   "cell_type": "code",
   "execution_count": null,
   "id": "b2474443-ed40-4136-abf0-ddee96dd13a2",
   "metadata": {},
   "outputs": [],
   "source": [
    "# extra work just to remember how to do value count of categorical variable\n",
    "df['Spiders'].value_counts()"
   ]
  },
  {
   "cell_type": "markdown",
   "id": "c7308486-dc3b-4ea2-9329-22448bb05aa1",
   "metadata": {},
   "source": [
    "## Adding a third variable with hue"
   ]
  },
  {
   "cell_type": "code",
   "execution_count": null,
   "id": "8964af74-3e4b-4788-8d86-c404fd99f5ff",
   "metadata": {},
   "outputs": [],
   "source": [
    "df = pd.read_csv('student-alcohol-consumption.csv')\n",
    "df.head()"
   ]
  },
  {
   "cell_type": "code",
   "execution_count": null,
   "id": "be5e56ad-6bfd-41bd-8a8a-5116366bbcf0",
   "metadata": {},
   "outputs": [],
   "source": [
    "df.columns"
   ]
  },
  {
   "cell_type": "code",
   "execution_count": null,
   "id": "4d4eb37d-127a-4a44-9a11-b589691cf82e",
   "metadata": {},
   "outputs": [],
   "source": [
    "# create scatterplot with color coding for third variable\n",
    "sns.scatterplot(x= 'absences', y= 'G3', data= df, hue= 'location', hue_order= ['Rural', 'Urban'], palette= {'Rural':'green', 'Urban':'blue'})"
   ]
  },
  {
   "cell_type": "code",
   "execution_count": null,
   "id": "74691d82-6679-45ef-8e89-3d00e20bc696",
   "metadata": {},
   "outputs": [],
   "source": [
    "# same as above but with default colors and columns selected as df['column']\n",
    "sns.scatterplot(x= df['absences'], y= df['G3'], hue= df['location'], hue_order= ['Rural', 'Urban'])"
   ]
  },
  {
   "cell_type": "code",
   "execution_count": null,
   "id": "93412804-0c48-445e-ab8d-1d04174ee071",
   "metadata": {},
   "outputs": [],
   "source": [
    "# Let's continue exploring our dataset from students in secondary school by looking at a new variable. The \"school\" column indicates the initials of\n",
    "# which school the student attended - either \"GP\" or \"MS\". \n",
    "# In the last exercise, we created a scatter plot where the plot points were colored based on whether the student lived in an urban or rural area. \n",
    "# How many students live in urban vs. rural areas, and does this vary based on what school the student attends? Let's make a count plot with \n",
    "# subgroups to find out.\n",
    "\n",
    "# Fill in the palette_colors dictionary to map the \"Rural\" location value to the color \"green\" and the \"Urban\" location value to the color \"blue\"\n",
    "palette_colors= {'Rural':'cyan', 'Urban':'orange'}\n",
    "\n",
    "#Create a count plot with \"school\" on the x-axis.Add subgroups to the plot using \"location\" variable and use the palette_colors dictionary to make \n",
    "# the location subgroups green and blue.\n",
    "sns.countplot(x= df['school'], hue= df['location'], palette= palette_colors )\n",
    "\n",
    "# for comparison\n",
    "#sns.countplot(x= df['school'])"
   ]
  },
  {
   "cell_type": "markdown",
   "id": "2d1599cd-aa9f-42ec-af9f-d23aef4d0f15",
   "metadata": {},
   "source": [
    "# Chapter 2"
   ]
  },
  {
   "cell_type": "markdown",
   "id": "7eabcffe-9e92-4fdf-9a6e-11ed0a85596b",
   "metadata": {},
   "source": [
    "## Relational plots and subplots"
   ]
  },
  {
   "cell_type": "code",
   "execution_count": null,
   "id": "33f91207-77ec-40dc-8740-e1c129b04d5d",
   "metadata": {},
   "outputs": [],
   "source": [
    "df = pd.read_csv('student-alcohol-consumption.csv')\n",
    "df.head()"
   ]
  },
  {
   "cell_type": "code",
   "execution_count": null,
   "id": "33980cd5-ac92-414a-b7fd-9916f60fa899",
   "metadata": {},
   "outputs": [],
   "source": [
    "# Modify the code to use relplot() instead of scatterplot().\n",
    "sns.relplot(x= df['absences'], y= df['G3'], kind= 'scatter')"
   ]
  },
  {
   "cell_type": "code",
   "execution_count": null,
   "id": "74b054e6-026f-421f-868a-27bfaa563edb",
   "metadata": {},
   "outputs": [],
   "source": [
    "# Modify the code to create one scatter plot for each level of the variable \"study_time\", arranged in columns.\n",
    "sns.relplot(x= df['absences'], y= df['G3'], kind= 'scatter', col= df['study_time'])"
   ]
  },
  {
   "cell_type": "code",
   "execution_count": null,
   "id": "47db7a16-9211-4c50-8ffe-92476c9aaa75",
   "metadata": {},
   "outputs": [],
   "source": [
    "# Adapt your code to create one scatter plot for each level of a student's weekly study time, this time arranged in rows.\n",
    "sns.relplot(x= df['absences'], y= df['G3'], kind= 'scatter', row= df['study_time'])"
   ]
  },
  {
   "cell_type": "code",
   "execution_count": null,
   "id": "1eb44662-4c7b-4ab1-9e8b-018e374a211b",
   "metadata": {},
   "outputs": [],
   "source": [
    "# Let's continue looking at the dataset of students in secondary school. Here, we want to answer the following question: does \n",
    "# a student's first semester grade (\"G1\") tend to correlate with their final grade (\"G3\")?\n",
    "# There are many aspects of a student's life that could result in a higher or lower final grade in the class. For example, some students receive \n",
    "# extra educational support from their school (\"schoolsup\") or from their family (\"famsup\"), which could result in higher grades. Let's try to \n",
    "# control for these two factors by creating subplots based on whether the student received extra educational support from their school or family.\n",
    "\n",
    "# Use relplot() to create a scatter plot with \"G1\" on the x-axis and \"G3\" on the y-axis.\n",
    "sns.relplot(x= df['G1'], y= df['G3'], kind= 'scatter')"
   ]
  },
  {
   "cell_type": "code",
   "execution_count": null,
   "id": "aa00985f-af2b-4242-b4f1-1dae7ea1cb06",
   "metadata": {},
   "outputs": [],
   "source": [
    "# Create column subplots based on whether the student received support from the school (\"schoolsup\"), ordered so that \"yes\" comes before \"no\".\n",
    "sns.relplot(x= df['G1'], y= df['G3'], kind= 'scatter', col= df['schoolsup'], col_order= ['yes', 'no'])"
   ]
  },
  {
   "cell_type": "code",
   "execution_count": null,
   "id": "fc092559-495e-42f8-b738-ec94bce32098",
   "metadata": {},
   "outputs": [],
   "source": [
    "# Add row subplots based on whether the student received support from the family (\"famsup\"), ordered so that \"yes\" comes before \"no\". This will \n",
    "# result in subplots based on two factors.\n",
    "sns.relplot(x= df['G1'], y= df['G3'], kind= 'scatter', col= df['schoolsup'], col_order= ['yes', 'no'], row= df['famsup'], row_order= ['yes', 'no'])"
   ]
  },
  {
   "cell_type": "markdown",
   "id": "d4868efd-9265-4b31-b932-a56bde205391",
   "metadata": {},
   "source": [
    "## Customizing scatter plots"
   ]
  },
  {
   "cell_type": "code",
   "execution_count": null,
   "id": "36e6ea14-0328-4763-bbc0-408d9337cb0b",
   "metadata": {},
   "outputs": [],
   "source": [
    "df= pd.read_csv('mpg.csv')\n",
    "df.head()"
   ]
  },
  {
   "cell_type": "code",
   "execution_count": null,
   "id": "d8cc4149-7413-4a59-ae4a-1a10315e0dc4",
   "metadata": {},
   "outputs": [],
   "source": [
    "# Changing the size of scatter plot points\n",
    "# In this exercise, we'll explore Seaborn's mpg dataset, which contains one row per car model and includes information such as the year the car was\n",
    "# made, the number of miles per gallon (\"M.P.G.\") it achieves, the power of its engine (measured in \"horsepower\"), and its country of origin.\n",
    "# What is the relationship between the power of a car's engine (\"horsepower\") and its fuel efficiency (\"mpg\")? And how does this relationship vary \n",
    "# by the number of cylinders (\"cylinders\") the car has? Let's find out.\n",
    "# Let's continue to use relplot() instead of scatterplot() since it offers more flexibility.\n",
    "\n",
    "# Use relplot() to create a scatter plot with \"horsepower\" on the x-axis and \"mpg\" on the y-axis. Vary the size of the points by the number of \n",
    "# cylinders in the car (\"cylinders\").\n",
    "sns.relplot(x= df['horsepower'], y= df['mpg'], kind= 'scatter', size= df['cylinders'])"
   ]
  },
  {
   "cell_type": "code",
   "execution_count": null,
   "id": "aafa15ba-771d-4f66-af04-a11c76c60f2d",
   "metadata": {},
   "outputs": [],
   "source": [
    "# To make this plot easier to read, use hue to vary the color of the points by the number of cylinders in the car (\"cylinders\").\n",
    "sns.relplot(x= df['horsepower'], y= df['mpg'], kind= 'scatter', size= df['cylinders'], hue= df['cylinders'])\n"
   ]
  },
  {
   "cell_type": "code",
   "execution_count": null,
   "id": "325d3714-9859-40ce-a110-a452f64a519f",
   "metadata": {},
   "outputs": [],
   "source": [
    "# Changing the style of scatter plot points\n",
    "# Let's continue exploring by looking at the relationship between how fast a car can accelerate (\"acceleration\") and its fuel efficiency (\"mpg\"). Do\n",
    "# these properties vary by country of origin (\"origin\")?\n",
    "# Note that the \"acceleration\" variable is the time to accelerate from 0 to 60 miles per hour, in seconds. Higher values indicate slower \n",
    "# acceleration.\n",
    "\n",
    "# Use relplot() to create a scatter plot with \"acceleration\" on the x-axis and \"mpg\" on the y-axis. Vary the style and color of the plot points by \n",
    "# country of origin (\"origin\"). (Note: This time I am using the alternative way to create scatter rather than df['column'] for record & memory).\n",
    "sns.relplot(x= 'acceleration', y= 'mpg', data= df, kind= 'scatter', hue= 'origin', style= 'origin')\n",
    "\n"
   ]
  },
  {
   "cell_type": "markdown",
   "id": "8e5e9711-b496-4595-895c-63ab9388765b",
   "metadata": {},
   "source": [
    "## Line plots"
   ]
  },
  {
   "cell_type": "code",
   "execution_count": null,
   "id": "8a800203-3366-426c-b6f3-17d897f73524",
   "metadata": {},
   "outputs": [],
   "source": [
    "# Interpreting line plots\n",
    "# In this exercise, we'll continue to exploring the same data frame. we will find out that how has the average miles per gallon achieved by the cars\n",
    "# changed over time? Let's use line plots to find out!\n",
    "\n",
    "# Use relplot() to create a line plot with \"model_year\" on the x-axis and \"mpg\" on the y-axis. The thick line is mean of observation per x-values\n",
    "# and the shaded area is the confidence interval around that mean.\n",
    "sns.relplot(x= 'model_year', y= 'mpg', data= df, kind= 'line')"
   ]
  },
  {
   "cell_type": "code",
   "execution_count": null,
   "id": "9c5cfc96-1fc2-4745-a890-fdbec4ce0685",
   "metadata": {},
   "outputs": [],
   "source": [
    "# Visualizing standard deviation with line plots\n",
    "# In the last exercise, we looked at how the average miles per gallon achieved by cars has changed over time. Now let's use a line plot to visualize\n",
    "# how the distribution of miles per gallon has changed over time.\n",
    "\n",
    "# Change the plot so the shaded area shows the standard deviation instead of the confidence interval for the mean. Errorbar can give confident inte-\n",
    "# rval or standard deviation etc. errorbar= None produces no shaded area but only line.\n",
    "sns.relplot(x= 'model_year', y= 'mpg', data= df, kind= 'line', ci= 'sd')    # try errorbar= 'sd' if ci is not working"
   ]
  },
  {
   "cell_type": "code",
   "execution_count": null,
   "id": "24b5a4f4-c915-4e13-933e-755985927752",
   "metadata": {},
   "outputs": [],
   "source": [
    "# Use relplot() to create a line plot with \"model_year\" on the x-axis and \"horsepower\" on the y-axis. Turn off the confidence intervals on the plot.\n",
    "sns.relplot(x= 'model_year', y= 'horsepower', data= df, kind= 'line', ci= None) # replace ci by errorbar if ci not working"
   ]
  },
  {
   "cell_type": "code",
   "execution_count": null,
   "id": "9cff1ba7-81e8-46aa-b762-6554c59e26ca",
   "metadata": {},
   "outputs": [],
   "source": [
    "# Plotting subgroups in line plots\n",
    "# We've seen that the average miles per gallon for cars has increased over time, but how has the average horsepower for cars changed over time? And \n",
    "# does this trend differ by country of origin?\n",
    "\n",
    "# Create different lines for each country of origin (\"origin\") that vary in both line style and color.\n",
    "sns.relplot(x= 'model_year', y= 'horsepower', data= df, kind= 'line', style= 'origin', hue= 'origin', ci= None)\n",
    "\n"
   ]
  },
  {
   "cell_type": "code",
   "execution_count": null,
   "id": "bba6a6b9-7920-403d-a2bc-b754f83e3140",
   "metadata": {},
   "outputs": [],
   "source": [
    "# Add markers for each data point to the lines.\n",
    "sns.relplot(x= 'model_year', y= 'horsepower', data= df, kind= 'line', style= 'origin', hue= 'origin', ci= None, markers= True)"
   ]
  },
  {
   "cell_type": "code",
   "execution_count": null,
   "id": "fd7066f7-a632-466a-88cc-438399d33a0b",
   "metadata": {},
   "outputs": [],
   "source": [
    "# Use the dashes parameter to use solid lines for all countries, while still allowing for different marker styles for each line.\n",
    "sns.relplot(x= 'model_year', y= 'horsepower', data= df, kind= 'line', style= 'origin', hue= 'origin', ci= None, markers= True, dashes= False)"
   ]
  },
  {
   "cell_type": "markdown",
   "id": "4977d8ce-7d17-4830-9590-3b0a67a651e1",
   "metadata": {},
   "source": [
    "# Chapter 3"
   ]
  },
  {
   "cell_type": "markdown",
   "id": "560a324f-f622-4095-b8a5-ba4fb15ede03",
   "metadata": {},
   "source": [
    "## Count plots and bar plots"
   ]
  },
  {
   "cell_type": "code",
   "execution_count": null,
   "id": "a89b9ee8-4817-4c12-a52d-ae4e1fb74dbb",
   "metadata": {},
   "outputs": [],
   "source": [
    "df= pd.read_csv('young-people-survey-responses.csv')\n",
    "df.head()"
   ]
  },
  {
   "cell_type": "code",
   "execution_count": null,
   "id": "195b9bcd-b4ed-45af-a4ef-0da93a17b68e",
   "metadata": {},
   "outputs": [],
   "source": [
    "# In this exercise, we'll return to exploring our dataset that contains the responses to a survey sent out to young people. We might suspect that \n",
    "# young people spend a lot of time on the internet, but how much do they report using the internet each day? Let's use a count plot to break down \n",
    "# the number of survey responses in each category and then explore whether it changes based on age.\n",
    "# As a reminder, to create a count plot, we'll use the catplot() function and specify the name of the categorical variable to count (x=____), the \n",
    "# pandas DataFrame to use (data=____), and the type of plot (kind=\"count\").\n",
    "\n",
    "# Use sns.catplot() to create a count plot using the survey DataFrame with \"Internet usage\" on the x-axis.\n",
    "sns.catplot(x= 'Internet usage', data= df, kind= 'count')"
   ]
  },
  {
   "cell_type": "code",
   "execution_count": null,
   "id": "bbd76f1b-a76b-49cc-a730-2b279d736ec9",
   "metadata": {},
   "outputs": [],
   "source": [
    "# Make the bars horizontal instead of vertical.\n",
    "sns.catplot(y= 'Internet usage', data= df, kind= 'count')"
   ]
  },
  {
   "cell_type": "code",
   "execution_count": null,
   "id": "6058da8b-a9ff-4f22-a51f-cec5dcd52c9e",
   "metadata": {},
   "outputs": [],
   "source": [
    "# Separate this plot into two side-by-side column subplots based on \"Age Category\", which separates respondents into those that are younger than 21 \n",
    "# vs. 21 and older. (First, I need to create 'Age Category' column since it does not exist in my data frame).\n",
    "\n",
    "import numpy as np\n",
    "ranges = [0, 20, np.inf]\n",
    "names = ['Less than 21', '21+']\n",
    "df['Age Category'] = pd.cut(df['Age'], bins= ranges, labels = names)\n",
    "df"
   ]
  },
  {
   "cell_type": "code",
   "execution_count": null,
   "id": "51afa0f0-f0b9-4654-bc68-07579cb76cfe",
   "metadata": {},
   "outputs": [],
   "source": [
    "sns.catplot(y= 'Internet usage', data= df, kind= 'count', col= 'Age Category')"
   ]
  },
  {
   "cell_type": "code",
   "execution_count": null,
   "id": "de0691f7-e80d-48f5-b8a4-204811cace35",
   "metadata": {},
   "outputs": [],
   "source": [
    "# Bar plots with percentages\n",
    "# Let's continue exploring the responses to a survey sent out to young people. The variable \"Interested in Math\" is True if the person reported \n",
    "# being interested or very interested in mathematics, and False otherwise. What percentage of young people report being interested in math, and does\n",
    "# this vary based on gender? Let's use a bar plot to find out.\n",
    "# As a reminder, we'll create a bar plot using the catplot() function, providing the name of categorical variable to put on the x-axis (x=____), the\n",
    "# name of the quantitative variable to summarize on the y-axis (y=____), the pandas DataFrame to use (data=____), and the type of categorical plot \n",
    "# (kind=\"bar\").\n",
    "\n",
    "# Use the sns.catplot() to create a bar plot with \"Gender\" on the x-axis and \"Interested in Math\" on the y-axis. (First, I need to create \n",
    "# 'Interested in Math' column since it does not exist in my data frame).\n",
    "df['Mathematics'].unique()"
   ]
  },
  {
   "cell_type": "code",
   "execution_count": null,
   "id": "7969eaf6-09d8-4ae9-9fa6-8d2795b9c788",
   "metadata": {},
   "outputs": [],
   "source": [
    "# del(df['Interested in Math'])\n",
    "df"
   ]
  },
  {
   "cell_type": "code",
   "execution_count": null,
   "id": "a8e7b2ef-a590-4c2d-bfb6-ff8d16f79b70",
   "metadata": {},
   "outputs": [],
   "source": [
    "ranges = [0, 3, 5]\n",
    "names = [False, True]     # False for 0 and True for 1\n",
    "df['Interested in Math'] = pd.cut(df['Mathematics'], bins = ranges, labels = names)\n",
    "df[['Mathematics', 'Interested in Math']]"
   ]
  },
  {
   "cell_type": "code",
   "execution_count": null,
   "id": "02c84bbf-19c7-47a0-9294-0e36e286c040",
   "metadata": {},
   "outputs": [],
   "source": [
    "# Either the variable on x-axis or the variable on y-axis must be quantitative in bar plot. Boolean is either 1 or 0, so it is quantitative.\n",
    "df['Interested in Math'] = df['Interested in Math'].astype(bool)\n",
    "df['Interested in Math'].dtype\n"
   ]
  },
  {
   "cell_type": "code",
   "execution_count": null,
   "id": "28fbafd3-12ed-43f1-8b99-7d8d05cd0e1c",
   "metadata": {},
   "outputs": [],
   "source": [
    "# by default, the confidence intervals are produced are shown as well along the means showns by bars.\n",
    "sns.catplot(x= 'Gender', y= 'Interested in Math', data= df, kind= 'bar')"
   ]
  },
  {
   "cell_type": "code",
   "execution_count": null,
   "id": "b297f27e-5030-45fb-bf8d-caea040d2764",
   "metadata": {},
   "outputs": [],
   "source": [
    "# Customizing bar plots\n",
    "# In this exercise, we'll explore data from students in secondary school. The \"study_time\" variable records each student's reported weekly study \n",
    "# time as one of the following categories: \"<2 hours\", \"2 to 5 hours\", \"5 to 10 hours\", or \">10 hours\". Do students who report higher amounts of \n",
    "# studying tend to get better final grades? Let's compare the average final grade among students in each category using a bar plot.\n",
    "\n",
    "# Use sns.catplot() to create a bar plot with \"study_time\" on the x-axis and final grade (\"G3\") on the y-axis, using the data frame."
   ]
  },
  {
   "cell_type": "code",
   "execution_count": null,
   "id": "ef71d864-4d8c-4a99-bf15-d6ab0bc8a156",
   "metadata": {},
   "outputs": [],
   "source": [
    "# First import the relevant data frame as:\n",
    "df = pd.read_csv('student-alcohol-consumption.csv')\n",
    "df"
   ]
  },
  {
   "cell_type": "code",
   "execution_count": null,
   "id": "66b5f310-58c4-45c1-aa87-19d4bc072c32",
   "metadata": {},
   "outputs": [],
   "source": [
    "# now create the required graph\n",
    "sns.catplot(x= 'study_time', y= 'G3', data= df, kind= 'bar')"
   ]
  },
  {
   "cell_type": "code",
   "execution_count": null,
   "id": "b0c79976-2f84-4a20-8ed2-c764ef39e95c",
   "metadata": {},
   "outputs": [],
   "source": [
    "# Using the order parameter and the category_order list that is provided, rearrange the bars so that they are in order from lowest study time to \n",
    "# highest.\n",
    "category_order = ['<2 hours', '2 to 5 hours', '5 to 10 hours', '>10 hours']\n",
    "sns.catplot(x = 'study_time', y= 'G3', data= df, kind= 'bar', order= category_order)"
   ]
  },
  {
   "cell_type": "code",
   "execution_count": null,
   "id": "aa231a89-14c7-41b3-a93d-1be82e33508d",
   "metadata": {},
   "outputs": [],
   "source": [
    "# Update the plot so that it no longer displays confidence intervals.\n",
    "sns.catplot(x = 'study_time', y= 'G3', data= df, kind= 'bar', order= category_order, ci= None)  # replace ci by errorbar if ci is not working"
   ]
  },
  {
   "cell_type": "markdown",
   "id": "9b871b50-d6fe-474d-83d2-af3ac85063f4",
   "metadata": {},
   "source": [
    "## Box plots"
   ]
  },
  {
   "cell_type": "code",
   "execution_count": null,
   "id": "602d89cf-e896-410e-9554-0069e3f46ec3",
   "metadata": {},
   "outputs": [],
   "source": [
    "# In an earlier exercise, we explored the relationship between studying and final grade by using a bar plot to compare the average final grade (\"G3\")\n",
    "# among students in different categories of \"study_time\". \n",
    "# In this exercise, we'll try using a box plot look at this relationship instead. As a reminder, to create a box plot you'll need to use the \n",
    "# catplot() function and specify the name of the categorical variable to put on the x-axis (x=____), the name of the quantitative variable to \n",
    "# summarize on the y-axis (y=____), the pandas DataFrame to use (data=____), and the type of plot (kind=\"box\").\n",
    "\n",
    "# Use sns.catplot() and the student_data DataFrame to create a box plot with \"study_time\" on the x-axis and \"G3\" on the y-axis. Set the ordering of \n",
    "# the categories to study_time_order\n",
    "study_time_order= ['<2 hours', '2 to 5 hours', '5 to 10 hours', '>10 hours']\n",
    "sns.catplot(x= 'study_time', y= 'G3', data= df, kind= 'box', order= study_time_order)"
   ]
  },
  {
   "cell_type": "code",
   "execution_count": null,
   "id": "b4474f70-d93c-4829-a366-1432af8fe313",
   "metadata": {},
   "outputs": [],
   "source": [
    "# Omitting outliers\n",
    "# Now let's use the dataset to compare the distribution of final grades (\"G3\") between students who have internet access at home and those who don't.\n",
    "# To do this, we'll use the \"internet\" variable, which is a binary (yes/no) indicator of whether the student has internet access at home.\n",
    "# Since internet may be less accessible in rural areas, we'll add subgroups based on where the student lives. For this, we can use the \"location\" \n",
    "# variable, which is an indicator of whether a student lives in an urban (\"Urban\") or rural (\"Rural\") location.\n",
    "\n",
    "# Use sns.catplot() to create a box plot, putting \"internet\" on the x-axis and \"G3\" on the y-axis.\n",
    "sns.catplot(x= 'internet', y= 'G3', data= df, kind= 'box')"
   ]
  },
  {
   "cell_type": "code",
   "execution_count": null,
   "id": "3bee6815-eb26-44cb-befd-c723ac9ddb99",
   "metadata": {},
   "outputs": [],
   "source": [
    "# Add subgroups so each box plot is colored based on \"location\"\n",
    "sns.catplot(x= 'internet', y= 'G3', data= df, kind= 'box', hue= 'location')"
   ]
  },
  {
   "cell_type": "code",
   "execution_count": null,
   "id": "3e0ccebf-0e42-4aae-99d6-db31f88d2264",
   "metadata": {},
   "outputs": [],
   "source": [
    "# Do not display the outliers.\n",
    "sns.catplot(x= 'internet', y= 'G3', data= df, kind= 'box', hue= 'location', sym= \"\")"
   ]
  },
  {
   "cell_type": "code",
   "execution_count": null,
   "id": "db1f5d48-deb0-4933-b3cf-1de895d6dd49",
   "metadata": {},
   "outputs": [],
   "source": [
    "# Adjusting the whiskers\n",
    "# In the lesson we saw that there are multiple ways to define the whiskers in a box plot. In this set of exercises, we'll continue to use the same\n",
    "# dataset to compare the distribution of final grades (\"G3\") between students who are in a romantic relationship and those that are not. We'll use \n",
    "# the \"romantic\" variable, which is a yes/no indicator of whether the student is in a romantic relationship.\n",
    "# Let's create a box plot to look at this relationship and try different ways to define the whiskers.\n",
    "\n",
    "# Adjust the code to make the box plot whiskers to extend to 0.5 * IQR. Recall: the IQR is the interquartile range.\n",
    "sns.catplot(x= 'internet', y= 'G3', data= df, kind= 'box', whis= 0.5)"
   ]
  },
  {
   "cell_type": "code",
   "execution_count": null,
   "id": "2e7a6843-59bd-458e-9d92-e73f828f6ab0",
   "metadata": {},
   "outputs": [],
   "source": [
    "# Change the code to set the whiskers to extend to the 5th and 95th percentiles.\n",
    "sns.catplot(x= 'internet', y= 'G3', data= df, kind= 'box', whis= [5, 95])"
   ]
  },
  {
   "cell_type": "code",
   "execution_count": null,
   "id": "59f828cd-3e97-427f-b83e-74975485bd19",
   "metadata": {},
   "outputs": [],
   "source": [
    "# Change the code to set the whiskers to extend to the min and max values.\n",
    "sns.catplot(x= 'internet', y= 'G3', data= df, kind= 'box', whis= [0, 100])"
   ]
  },
  {
   "cell_type": "markdown",
   "id": "ee4f3da8-b9a9-4c8d-8725-8b90e5b532ef",
   "metadata": {},
   "source": [
    "## Point plots"
   ]
  },
  {
   "cell_type": "code",
   "execution_count": null,
   "id": "1493ddf3-169b-47c0-bfb1-3afa5267276d",
   "metadata": {},
   "outputs": [],
   "source": [
    "# Customizing point plots\n",
    "# Let's continue to look at data from students in secondary school, this time using a point plot to answer the question: does the quality of the \n",
    "# student's family relationship influence the number of absences the student has in school? Here, we'll use the \"famrel\" variable, which describes \n",
    "# the quality of a student's family relationship from 1 (very bad) to 5 (very good).\n",
    "# As a reminder, to create a point plot, use the catplot() function and specify the name of the categorical variable to put on the x-axis (x=____), \n",
    "# the name of the quantitative variable to summarize on the y-axis (y=____), the pandas DataFrame to use (data=____), and the type of categorical \n",
    "# plot (kind=\"point\").\n",
    "\n",
    "# Use sns.catplot() to create a point plot with \"famrel\" on the x-axis and number of absences (\"absences\") on the y-axis.\n",
    "sns.catplot(x= 'famrel', y= 'absences', data= df, kind= 'point')"
   ]
  },
  {
   "cell_type": "code",
   "execution_count": null,
   "id": "cf00d14f-0d14-4e73-baa0-80a161213956",
   "metadata": {},
   "outputs": [],
   "source": [
    "# Add \"caps\" to the end of the confidence intervals with size 0.2.\n",
    "sns.catplot(x= 'famrel', y= 'absences', data= df, kind= 'point', capsize= 0.2)"
   ]
  },
  {
   "cell_type": "code",
   "execution_count": null,
   "id": "86692abe-da63-491a-a5ce-0b4572536773",
   "metadata": {},
   "outputs": [],
   "source": [
    "# Remove the lines joining the points in each category.\n",
    "sns.catplot(x= 'famrel', y= 'absences', data= df, kind= 'point', capsize= 0.2, join= False)"
   ]
  },
  {
   "cell_type": "code",
   "execution_count": null,
   "id": "3aad15dd-f058-4b96-a94d-0f18421534c7",
   "metadata": {},
   "outputs": [],
   "source": [
    "# Point plots with subgroups\n",
    "# Let's continue exploring the dataset of students in secondary school. This time, we'll ask the question: is being in a romantic relationship \n",
    "# associated with higher or lower school attendance? And does this association differ by which school the students attend? Let's find out using \n",
    "# a point plot.\n",
    "\n",
    "# Use sns.catplot() to create a point plot with relationship status (\"romantic\") on the x-axis and number of absences(\"absences\") on the y-axis. \n",
    "# Color the points based on the school that they attend (\"school\").\n",
    "sns.catplot(x= 'romantic', y= 'absences', data= df, kind= 'point', hue= 'school')"
   ]
  },
  {
   "cell_type": "code",
   "execution_count": null,
   "id": "8ae588d5-9460-400b-aa04-12d34704cf6c",
   "metadata": {},
   "outputs": [],
   "source": [
    "# Turn off the confidence intervals for the plot\n",
    "sns.catplot(x= 'romantic', y= 'absences', data= df, kind= 'point', hue= 'school', ci= None) # ci or errorbar"
   ]
  },
  {
   "cell_type": "code",
   "execution_count": null,
   "id": "22dd804a-264c-4c4b-a371-07cf684aecdc",
   "metadata": {},
   "outputs": [],
   "source": [
    "# Since there may be outliers of students with many absences, use the median function that we've imported from numpy to display the median number of\n",
    "# absences instead of the average.\n",
    "from numpy import median\n",
    "sns.catplot(x= 'romantic', y= 'absences', data= df, kind= 'point', hue= 'school', ci= None, estimator= median)"
   ]
  },
  {
   "cell_type": "markdown",
   "id": "62f53fcc-2180-4d9a-9e1f-fa45296b8bab",
   "metadata": {},
   "source": [
    "# Chapter 4"
   ]
  },
  {
   "cell_type": "markdown",
   "id": "a64e81c2-4dc5-475e-a90b-7b1dd6d68d73",
   "metadata": {},
   "source": [
    "## Plot style and color"
   ]
  },
  {
   "cell_type": "code",
   "execution_count": null,
   "id": "42835dda-7ceb-47b6-b828-ea0345f25f62",
   "metadata": {},
   "outputs": [],
   "source": [
    "df = pd.read_csv('young-people-survey-responses.csv')\n",
    "df"
   ]
  },
  {
   "cell_type": "code",
   "execution_count": null,
   "id": "29e47c80-1aca-4372-9332-8113dc7b9631",
   "metadata": {},
   "outputs": [],
   "source": [
    "# Changing style and palette\n",
    "# Let's return to our dataset containing the results of a survey given to young people about their habits and preferences. We've provided the code \n",
    "# to create a count plot of their responses to the question \"How often do you listen to your parents' advice?\". Now let's change the style and \n",
    "# palette to make this plot easier to interpret.\n",
    "\n",
    "# Set the style to \"whitegrid\" to help the audience determine the number of responses in each category. (But first I need to create a column based \n",
    "# on existing column, Parents' advice, in the data frame as):\n"
   ]
  },
  {
   "cell_type": "code",
   "execution_count": null,
   "id": "0acd7d0b-64fd-4f65-ba52-b553e986c556",
   "metadata": {},
   "outputs": [],
   "source": [
    "# find the unique values of the existing column\n",
    "df[\"Parents' advice\"].unique()"
   ]
  },
  {
   "cell_type": "code",
   "execution_count": null,
   "id": "0f5277d4-306e-4baa-a7a6-dde4ceff9fe1",
   "metadata": {},
   "outputs": [],
   "source": [
    "# some more info about the existing column\n",
    "df[\"Parents' advice\"].value_counts()"
   ]
  },
  {
   "cell_type": "code",
   "execution_count": null,
   "id": "ea746259-2e24-43ae-a324-d869e35fd704",
   "metadata": {},
   "outputs": [],
   "source": [
    "# some more info about the existing column\n",
    "df[\"Parents' advice\"].isnull().sum()"
   ]
  },
  {
   "cell_type": "code",
   "execution_count": null,
   "id": "8a98194e-8598-47ac-9edb-667e59905c14",
   "metadata": {},
   "outputs": [],
   "source": [
    "# create a new column now\n",
    "ranges = [0, 1, 2, 3, 4, 5]\n",
    "names = ['Never', 'Rarely', 'Sometimes', 'Often', 'Always']\n",
    "df['parents advice'] = pd.cut(df[\"Parents' advice\"], bins = ranges, labels= names)\n",
    "\n",
    "df[[\"Parents' advice\", \"parents advice\"]]"
   ]
  },
  {
   "cell_type": "code",
   "execution_count": null,
   "id": "e0944ec8-e8e2-408b-a4c9-1dab18e0ee43",
   "metadata": {},
   "outputs": [],
   "source": [
    "# Now let's create the graph\n",
    "# Set the style to \"whitegrid\" to help the audience determine the number of responses in each category.\n",
    "sns.set_style('whitegrid')\n",
    "sns.catplot(x= 'parents advice', data= df, kind= 'count', order= names)"
   ]
  },
  {
   "cell_type": "code",
   "execution_count": null,
   "id": "7a36b5b0-d636-4f3b-a40b-bde0263a00e0",
   "metadata": {},
   "outputs": [],
   "source": [
    "# Set the color palette to the sequential palette named \"Purples\".\n",
    "sns.set_style('whitegrid')\n",
    "sns.set_palette('Purples')\n",
    "sns.catplot(x= 'parents advice', data= df, kind= 'count', order= names)"
   ]
  },
  {
   "cell_type": "code",
   "execution_count": null,
   "id": "20c0329b-d4e7-417f-8341-efde32ab362d",
   "metadata": {},
   "outputs": [],
   "source": [
    "# Change the color palette to the diverging palette named \"RdBu\"\n",
    "sns.set_style('whitegrid')\n",
    "#sns.set_palette('Purples')\n",
    "sns.set_palette('RdBu')\n",
    "sns.catplot(x= 'parents advice', data= df, kind= 'count', order= names)"
   ]
  },
  {
   "cell_type": "code",
   "execution_count": null,
   "id": "503ba848-f3e7-423a-8e05-a371fe873f45",
   "metadata": {},
   "outputs": [],
   "source": [
    "# Changing the scale\n",
    "# In this exercise, we'll continue to look at the dataset containing responses from a survey of young people. Does the percentage of people reporting\n",
    "# that they feel lonely vary depending on how many siblings they have? Let's find out using a bar plot, while also exploring Seaborn's four different\n",
    "# plot scales (\"contexts\"). (First, I need to create 'feels lonely' variable based on existing variable 'Loneliness' as:)\n",
    "\n",
    "ranges= [0, 3, 5]\n",
    "names= [False, True]\n",
    "df['feels lonely']= pd.cut(df['Loneliness'], bins= ranges, labels= names)\n",
    "df[['Loneliness', 'feels lonely']].head()"
   ]
  },
  {
   "cell_type": "code",
   "execution_count": null,
   "id": "2717b9e7-78e3-4d56-8d0b-27dccba61a58",
   "metadata": {},
   "outputs": [],
   "source": [
    "# current data type of 'feels lonely'\n",
    "df['feels lonely'].dtype"
   ]
  },
  {
   "cell_type": "code",
   "execution_count": null,
   "id": "92010909-a356-4d3a-8bff-279667b8c954",
   "metadata": {},
   "outputs": [],
   "source": [
    "# convert the type to boolean\n",
    "df['feels lonely'] = df['feels lonely'].astype(bool)\n",
    "df['feels lonely'].dtype"
   ]
  },
  {
   "cell_type": "code",
   "execution_count": null,
   "id": "68f72bd2-87ef-4088-9f0d-9c2d9f51439b",
   "metadata": {},
   "outputs": [],
   "source": [
    "# create a variable, number of siblings, from the variable, Siblings as:\n",
    "ranges = [-1, 0, 2, np.inf] # greater than -1 and equal to or less than 0 = '0'. greater than 0 and equal to or less than 2 = '1-2'. greater than\n",
    "# 2 = '3+'\n",
    "names = ['0', '1-2', '3+' ]\n",
    "df['number of siblings'] = pd.cut(df['Siblings'], bins= ranges, labels= names)\n",
    "df[['Siblings', 'number of siblings']].head()"
   ]
  },
  {
   "cell_type": "code",
   "execution_count": null,
   "id": "bcfc5e36-6851-493d-a445-e516cb03249f",
   "metadata": {},
   "outputs": [],
   "source": [
    "# Set the scale (\"context\") to \"paper\", which is the smallest of the scale options.\n",
    "sns.set_style('white')\n",
    "sns.set_palette('muted')  # deep, muted, pastel , bright , dark , and colorblind .\n",
    "sns.set_context('paper')\n",
    "sns.catplot(x= 'number of siblings', y= 'feels lonely', data= df, kind= 'bar')"
   ]
  },
  {
   "cell_type": "code",
   "execution_count": null,
   "id": "0270e72c-d2c2-4d23-953f-312be63d659c",
   "metadata": {},
   "outputs": [],
   "source": [
    "# Change the context to \"notebook\" to increase the scale.\n",
    "sns.set_context('notebook')\n",
    "sns.catplot(x= 'number of siblings', y= 'feels lonely', data= df, kind= 'bar')"
   ]
  },
  {
   "cell_type": "code",
   "execution_count": null,
   "id": "54e6f3d5-46ae-471a-9b3d-e5a5a0b9caa3",
   "metadata": {},
   "outputs": [],
   "source": [
    "# Change the context to \"talk\" to increase the scale.\n",
    "sns.set_context('talk')\n",
    "sns.catplot(x= 'number of siblings', y= 'feels lonely', data= df, kind= 'bar')"
   ]
  },
  {
   "cell_type": "code",
   "execution_count": null,
   "id": "cb1f37fd-ec51-4637-a410-75f9018d52b6",
   "metadata": {},
   "outputs": [],
   "source": [
    "# Change the context to \"poster\", which is the largest scale available.\n",
    "sns.set_context('poster')\n",
    "sns.catplot(x= 'number of siblings', y= 'feels lonely', data= df, kind= 'bar')"
   ]
  },
  {
   "cell_type": "code",
   "execution_count": null,
   "id": "d9c8dce0-d4b1-448d-b04c-d8618b820336",
   "metadata": {},
   "outputs": [],
   "source": [
    "# Using a custom palette\n",
    "# So far, we've looked at several things in the dataset of survey responses from young people, including their internet usage, how often they listen\n",
    "# to their parents, and how many of them report feeling lonely. However, one thing we haven't done is a basic summary of the type of people answering\n",
    "# this survey, including their age and gender. Providing these basic summaries is always a good practice when dealing with an unfamiliar dataset.\n",
    "\n",
    "# The code provided will create a box plot showing the distribution of ages for male versus female respondents. Let's adjust the code to customize \n",
    "# the appearance, this time using a custom color palette.\n",
    "\n",
    "# Set the style to \"darkgrid\".\n",
    "# Set a custom color palette with the hex color codes \"#39A7D0\" and \"#36ADA4\".\n",
    "\n",
    "custom_palette = ['#39A7D0', '#36ADA4']\n",
    "sns.set_context('paper') # to revert the previous change in the note book or to restore default\n",
    "sns.set_style('darkgrid')\n",
    "sns.set_palette(custom_palette)\n",
    "sns.catplot(x = 'Gender', y= 'Age', data= df, kind= 'box')\n"
   ]
  },
  {
   "cell_type": "markdown",
   "id": "1761895d-6f4e-4f82-bec5-d8cd097391dd",
   "metadata": {},
   "source": [
    "## Titles and labels: Part 1"
   ]
  },
  {
   "cell_type": "code",
   "execution_count": null,
   "id": "029b543f-e255-40ae-b0ac-caddf24b1938",
   "metadata": {},
   "outputs": [],
   "source": [
    "df= pd.read_csv('mpg.csv')\n",
    "df.head()"
   ]
  },
  {
   "cell_type": "code",
   "execution_count": null,
   "id": "a505eb36-cf79-42b7-8f1b-faaf59a6ecce",
   "metadata": {},
   "outputs": [],
   "source": [
    "# FacetGrids vs. AxesSubplots\n",
    "# In the recent lesson, we learned that Seaborn plot functions create two different types of objects: FacetGrid objects and AxesSubplot objects. The\n",
    "# method for adding a title to your plot will differ depending on the type of object it is.\n",
    "# In the code provided, we've used relplot() with the miles per gallon dataset to create a scatter plot showing the relationship between a car's \n",
    "# weight and its horsepower. This scatter plot is assigned to the variable name g. Let's identify which type of object it is.\n",
    "\n",
    "#Identify what type of object plot g is\n",
    "g= sns.relplot(x= 'weight', y= 'horsepower', data= df, kind= 'scatter')"
   ]
  },
  {
   "cell_type": "code",
   "execution_count": null,
   "id": "8c9e109c-f27a-4d88-b97c-500854b1425f",
   "metadata": {},
   "outputs": [],
   "source": [
    "# The resulting graph is an object of this class, FacetGrid.\n",
    "print(type(g))"
   ]
  },
  {
   "cell_type": "code",
   "execution_count": null,
   "id": "e68c1b04-d970-4a98-a6c0-a383eea46a71",
   "metadata": {},
   "outputs": [],
   "source": [
    "# Add the following title to this plot: \"Car Weight vs. Horsepower\".\n",
    "g= sns.relplot(x= 'weight', y= 'horsepower', data= df, kind= 'scatter')\n",
    "g.fig.suptitle('Car Weight vs. Horsepower')\n"
   ]
  },
  {
   "cell_type": "markdown",
   "id": "df7d104a-3488-4b71-9f76-f45a7a0f4af3",
   "metadata": {},
   "source": [
    "## Title and labels: Part 2"
   ]
  },
  {
   "cell_type": "code",
   "execution_count": null,
   "id": "0d102860-2dfd-498d-9d59-d5860b2e3357",
   "metadata": {},
   "outputs": [],
   "source": [
    "df= pd.read_csv('mpg.csv')\n",
    "df.head()"
   ]
  },
  {
   "cell_type": "code",
   "execution_count": null,
   "id": "0f447203-f9e6-42aa-9e3d-e18fe75be4e6",
   "metadata": {},
   "outputs": [],
   "source": [
    "# Adding a title and axis labels\n",
    "# Let's continue to look at the miles per gallon dataset. This time we'll create a line plot to answer the question: How does the average miles per \n",
    "# gallon achieved by cars change over time for each of the three places of origin? To improve the readability of this plot, we'll add a title and \n",
    "# more informative axis labels.\n",
    "# In the code provided, we create the line plot using the lineplot() function. Note that lineplot() does not support the creation of subplots, so it\n",
    "# returns an AxesSubplot object instead of an FacetGrid object.\n",
    "\n",
    "# Add the following title to the plot: \"Average MPG Over Time\". (But first we need to find the mean of mpg and insert the column for it as:)\n",
    "df1 = pd.DataFrame(df.groupby(['model_year', 'origin'])['mpg'].agg(np.mean))\n",
    "df1 = df1.reset_index(level=['model_year', 'origin'])    # change the inexes into regular columns\n",
    "df1 = df1.rename(columns= {'mpg':'mpg_mean'})\n",
    "df1.head()\n",
    "# df1.shape"
   ]
  },
  {
   "cell_type": "code",
   "execution_count": null,
   "id": "1d6fb974-5c8a-46d5-8c6d-d9f9acedccc2",
   "metadata": {},
   "outputs": [],
   "source": [
    "# Now we can add the following title to the plot: \"Average MPG Over Time\".\n",
    "g= sns.lineplot(x= 'model_year', y= 'mpg_mean', data= df1, hue= 'origin')\n",
    "g.set_title('Average MPG Over Time')\n",
    "# Label the x-axis as \"Car Model Year\" and the y-axis as \"Average MPG\".\n",
    "g.set(xlabel= 'Car Model Year', ylabel= 'Average MPG')\n",
    "plt.show()"
   ]
  },
  {
   "cell_type": "code",
   "execution_count": null,
   "id": "dc6e5b0f-4a3a-48dc-b72d-913226e92717",
   "metadata": {},
   "outputs": [],
   "source": [
    "# g is an object of this class, AxesSubplot, which creates a signle plot.\n",
    "print(type(g))"
   ]
  },
  {
   "cell_type": "code",
   "execution_count": null,
   "id": "5a2574c1-155f-46d1-8a1e-b0a2abfa60e5",
   "metadata": {},
   "outputs": [],
   "source": [
    "# Rotating x-tick labels\n",
    "# In this exercise, we'll continue looking at the miles per gallon dataset. In the code provided, we create a point plot that displays the average \n",
    "# acceleration for cars in each of the three places of origin. Note that the \"acceleration\" variable is the time to accelerate from 0 to 60 miles \n",
    "# per hour, in seconds. Higher values indicate slower acceleration.\n",
    "# Let's use this plot to practice rotating the x-tick labels. Recall that the function to rotate x-tick labels is a standalone Matplotlib function \n",
    "# and not a function applied to the plot object itself.\n",
    "\n",
    "# Rotate the x-tick labels 90 degrees.\n",
    "sns.catplot(x= 'origin', y= 'acceleration', data= df, kind= 'point', join= False, capsize= 0.1)\n",
    "plt.xticks(rotation= 90)"
   ]
  },
  {
   "cell_type": "code",
   "execution_count": null,
   "id": "82f28915-b469-4be6-9f93-49612e11b555",
   "metadata": {},
   "outputs": [],
   "source": [
    "df.head()"
   ]
  },
  {
   "cell_type": "markdown",
   "id": "6dfefcc0-69e7-445e-b83a-8fed95cf4789",
   "metadata": {},
   "source": [
    "## Putting it all together"
   ]
  },
  {
   "cell_type": "code",
   "execution_count": null,
   "id": "0086ed36-e9cb-4f26-af98-237b673f82ed",
   "metadata": {},
   "outputs": [],
   "source": [
    "df= pd.read_csv('young-people-survey-responses.csv')\n",
    "df.head()"
   ]
  },
  {
   "cell_type": "code",
   "execution_count": null,
   "id": "cc9d247b-bdb7-4ce0-9f58-e7bde0609ca5",
   "metadata": {},
   "outputs": [],
   "source": [
    "# First create a new variable, interested in pets, based on the variable, Pets as:\n",
    "df['Pets'].unique()"
   ]
  },
  {
   "cell_type": "code",
   "execution_count": null,
   "id": "584cc4f6-c59a-4053-bcf3-0d995ef0bbd7",
   "metadata": {},
   "outputs": [],
   "source": [
    "ranges= [0, 3, 5]\n",
    "names= ['No', 'Yes']\n",
    "df['interested in pets']= pd.cut(df['Pets'], bins= ranges, labels= names)\n",
    "df.head()"
   ]
  },
  {
   "cell_type": "code",
   "execution_count": null,
   "id": "5fc55090-16a4-4953-ab9d-13810c7a3143",
   "metadata": {},
   "outputs": [],
   "source": [
    "# Box plot with subgroups\n",
    "# In this exercise, we'll look at the dataset containing responses from a survey given to young people. One of the questions asked of the young \n",
    "# people was: \"Are you interested in having pets?\" Let's explore whether the distribution of ages of those answering \"yes\" tends to be higher or \n",
    "# lower than those answering \"no\", controlling for gender.\n",
    "\n",
    "# Set the color palette to \"Blues\".\n",
    "# Add subgroups to color the box plots based on \"Interested in Pets\".\n",
    "sns.set_palette('Blues')\n",
    "g= sns.catplot(x= 'Gender', y= 'Age', data= df, kind= 'box', hue= 'interested in pets')\n",
    "# Set the title of the FacetGrid object g to \"Age of Those Interested in Pets vs. Not\"\n",
    "g.fig.suptitle('Age of Those Interested in Pets vs. Not', y= 1.03)"
   ]
  },
  {
   "cell_type": "code",
   "execution_count": null,
   "id": "525d9063-f16b-47e6-9216-c278d25d5e9f",
   "metadata": {},
   "outputs": [],
   "source": [
    "# Bar plot with subgroups and subplots\n",
    "# In this exercise, we'll return to our young people survey dataset and investigate whether the proportion of people who like techno music (\"Likes \n",
    "# Techno\") varies by their gender (\"Gender\") or where they live (\"Village - town\"). This exercise will give us an opportunity to practice the many \n",
    "# things we've learned throughout this course!\n",
    "\n",
    "# First get the data frame ready by creating a variable, likes techno, based on variable, Techno as:\n",
    "df['Techno'].unique()"
   ]
  },
  {
   "cell_type": "code",
   "execution_count": null,
   "id": "72f8df80-335a-4277-ba6c-f12edfad0220",
   "metadata": {},
   "outputs": [],
   "source": [
    "ranges = [0, 3, 5]\n",
    "names = [False, True]\n",
    "df['likes techno'] = pd.cut(df['Techno'], bins=ranges, labels=names)\n",
    "df[['Techno', 'likes techno']].head()"
   ]
  },
  {
   "cell_type": "code",
   "execution_count": null,
   "id": "5423be1c-c594-41f2-aa40-4eb837a53b55",
   "metadata": {},
   "outputs": [],
   "source": [
    "# existing type of variable, likes techno\n",
    "df['likes techno'].dtype"
   ]
  },
  {
   "cell_type": "code",
   "execution_count": null,
   "id": "b6948ad6-2ed8-4e09-9e9f-1cd21d1969c8",
   "metadata": {},
   "outputs": [],
   "source": [
    "# convert the data type of the variable, likes techno, into boolean\n",
    "df['likes techno'] = df['likes techno'].astype(bool)\n",
    "df['likes techno'].dtype"
   ]
  },
  {
   "cell_type": "code",
   "execution_count": null,
   "id": "4f709c74-9127-47ef-a844-1c5fab276d6c",
   "metadata": {},
   "outputs": [],
   "source": [
    "sns.set_palette('muted')\n",
    "# Set the figure style to \"dark\".\n",
    "sns.set_style('dark')\n",
    "\n",
    "# Adjust the bar plot code to add subplots based on \"Gender\", arranged in columns.\n",
    "g= sns.catplot(x= 'Village - town', y= 'likes techno', data= df, kind= 'bar', col= 'Gender')\n",
    "\n",
    "# Add the title \"Percentage of Young People Who Like Techno\" to this FacetGrid plot.\n",
    "g.fig.suptitle('Percentage of Young People Who Like Techno', y= 1.03)\n",
    "\n",
    "# Label the x-axis \"Location of Residence\" and y-axis \"% Who Like Techno\"\n",
    "g.set(xlabel= 'Location of Residence', ylabel= '% Who Like Techno')\n"
   ]
  },
  {
   "cell_type": "code",
   "execution_count": null,
   "id": "7db5842b-b64f-4ce5-bb91-fec91ae098ee",
   "metadata": {},
   "outputs": [],
   "source": [
    "df"
   ]
  },
  {
   "cell_type": "markdown",
   "id": "cc020d6b-ecc5-4052-b638-48fe35965276",
   "metadata": {},
   "source": [
    "# THE END"
   ]
  },
  {
   "cell_type": "code",
   "execution_count": null,
   "id": "69c7e137-793d-45e4-ae89-fc75d4f088e1",
   "metadata": {},
   "outputs": [],
   "source": []
  }
 ],
 "metadata": {
  "kernelspec": {
   "display_name": "Python 3",
   "language": "python",
   "name": "python3"
  },
  "language_info": {
   "codemirror_mode": {
    "name": "ipython",
    "version": 3
   },
   "file_extension": ".py",
   "mimetype": "text/x-python",
   "name": "python",
   "nbconvert_exporter": "python",
   "pygments_lexer": "ipython3",
   "version": "3.8.8"
  }
 },
 "nbformat": 4,
 "nbformat_minor": 5
}
